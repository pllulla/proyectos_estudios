{
 "cells": [
  {
   "cell_type": "markdown",
   "metadata": {},
   "source": [
    "## Data Mining"
   ]
  },
  {
   "cell_type": "markdown",
   "metadata": {},
   "source": [
    "### Los datos\n",
    "Datos, los datos suelen estár representados en filas y columnas (rows and columns), registros y variables...tienen otros nombres pero son esencialmente lo mismo.\n",
    "Los datos pueden ser de diferentes tipos:\n",
    "- **Categóricas**: describen una cualidad del dato: color ojos, sexo, si es rentable o no rentable, etc...\n",
    "- **Numéricas**: representan variables de numeros: temperaturas, dinero, altura, distancia, etc...\n",
    "\n",
    "- **Discretas**: tienen valores finitos o contbles infinitos, normalmente representados por variables integer. Los otributos binarios son un caso de atributos discretos (so o no, true or false, hombre o mujer)\n",
    "- **Continuas**: Son valores numéricos reales, suelen ser representados por números decimales"
   ]
  },
  {
   "cell_type": "markdown",
   "metadata": {},
   "source": [
    "Otro ejemplo de atributos:\n",
    "    Categóricas:\n",
    "- **Nominales**: ID num, color de ojos, estado civil, etc...\n",
    "- **Ordinales**: medida de ropa (M,XL,XXL), ranking (primero, segundo, tercero, etc)\n",
    "\n",
    "- **Intervalos**: temperaturas en Celsius o Fahrenheit\n",
    "- **Ratio**: Distancias, tiempo, conteos, etc..."
   ]
  },
  {
   "cell_type": "markdown",
   "metadata": {},
   "source": [
    "Diferentes Data Sets:\n",
    "- Registros: matríz de datos, documeto de datos, transacción\n",
    "- Grafos: WWW, estructuras moleculares\n",
    "- Ordenadas: datos temporales, secuencias"
   ]
  },
  {
   "cell_type": "markdown",
   "metadata": {},
   "source": [
    "### Calidad de los Datos\n",
    "La calidad de los datos, es un paso fundamental en data science y analysis, mucha gente lo ignora pero es sumamente importante, ver, entender y medir la calidad de los datos que se van a manipular.\n",
    "La calidad de los datos también afecta a los resultados de un analisis o a la hora de crear un modelo para ML, si los datos no son de calidad y si no se han preparado y filtrado para que tengan robustez, los trabajos posteriores pueden ser un fracaso o dar respuestas erroneas."
   ]
  },
  {
   "cell_type": "markdown",
   "metadata": {},
   "source": [
    "Dentro del aspecto de la calidad de los datos, hay que hacerse preguntas:\n",
    "- **De qué problemas de calidad me tengo que preocupar?**\n",
    "- **Cómo podemos detectar problemas en los datos?**\n",
    "- **Qué podemos hacer para arreglar los problemas?**\n",
    "\n",
    "Ejemplos de porblems en los datos:\n",
    "- Ruido y outliers (datos fuera de rango o extremos)\n",
    "- Nulos o datos falantes\n",
    "- Datos duplicados\n",
    "- Variables sin variación o que no dan valor a los datos"
   ]
  },
  {
   "cell_type": "markdown",
   "metadata": {},
   "source": [
    "### Nulos\n",
    "Para los valores faltantes o nulos, podemos tratarlos:\n",
    "- Eliminando los nulos (si no son muchos)\n",
    "- Estimar esos valores nulos, rellenando los valores con la media de los valors que si están en esa columna\n",
    "- Ignorar los nulos y seguir adelante con los trabajos\n",
    "- Si es categorica, se pueden remplazar los nulos por el valor que más peso tenga en la variable\n",
    "\n",
    "### Duplicados\n",
    "Los valores duplicados son un gran problema. Normalmente suelen aparecer cuando se juntan (JOIN) datos desde diferntes fuentes y al meterlos todos en un Data Set, se pueden duplicar variables o registros, hay que vigilar al unir Data Sets.\n",
    "Otro ejemplo sería cuando una persona tiene varios emails y esto puede representar a la misma persona pero con diferentes ID, por lo que tendriamos a esa persona duplicada en el Data Set."
   ]
  },
  {
   "cell_type": "markdown",
   "metadata": {},
   "source": [
    "### Procesamiento de datos\n",
    "El procesado de datos (puede incluir la limpieza de datos pero no es el procesado como tal), es la parte más importante y la que puede llevar más tiempo.\n",
    "Algunas acciones que entran en el procesado:\n",
    "- Agregación de datos\n",
    "- Muestreo\n",
    "- Reducción de la dimensionalidad\n",
    "- Selección/creación de caracteríasticas\n",
    "- Discretización (discretizar) y Binarización (pasar a binario variables)\n",
    "- Transformación de atributos\n",
    "- Detección de nulos, duplicados\n",
    "- Tratamiento de Outliers\n",
    "\n",
    "Estos pasos son independientes de cada Data Set, no todos deben ser aplicados a todos los Data Set. Es nuestro criterio el que debe tomar la decisión dependiendo de los datos que tenemos.\n"
   ]
  },
  {
   "cell_type": "markdown",
   "metadata": {},
   "source": [
    "### Agregación\n",
    "La agragación de datos, se refiere a juntar diferentes atributos de una variable para reducir el número de estas, por ejemplo: si se tiene una variable con ciudades o paises, se pueden reducir las opciones juntando los países en continentes para reducir datos, o juntarlos en los paises que más representación tienen en los datos.\n",
    "- Ejemplo: El idioma inglés se habla en casi todo el mundo pero si tenemos en cuenta los paises que más representación tienen, serían: UK, EEUU. Podemos dejar estos dos tal cual en la variable pero juntar otros paises que hablan ingles, pero con menos representación en un registro que sea \"Otros paises de habla inglesa\". Así podemos simplificar de 20 posibilidades a 3\n",
    "\n",
    "Esto reduce el ruido y la complejidad"
   ]
  },
  {
   "cell_type": "markdown",
   "metadata": {},
   "source": [
    "### Población y muestras\n",
    "El muestreo de datos se suele aplicar cuando se dispone de una cantidad masiva de datos y es casi imposible o imposible poder trabajar con estos. Normalmente se dice que se dispone de una POBLACIÓN y se coge una MUESTRA para el análisis y que esta MUESTRA es representativa de la POBLACIÓN.\n",
    "La muestra tiene que ser consistente, no debe ser muy pequeña, se debe coger el máximo que podamos manejar.\n",
    "La clave principal del muestreo es que, una vez realizado, los datos se puedan usar y den el mismo resultado que con los datos originales.\n",
    "La muesta debe ser representaiva de los datos totales.\n",
    "Es similar que hacer TRAIN y TEST en un Data Set."
   ]
  },
  {
   "cell_type": "markdown",
   "metadata": {},
   "source": [
    "### Reducción de dimensionalidad\n",
    "Reducir la dimesionalidad es importante cuando se tienen muchas variables ya que, una alta dimensionalidad, hace que pueda prodicirse una gran dispersión de los datos y no se pueda hacer foco en las repuestas importantes.\n",
    "Se debe entender la importancia de todas las variables y ver si existen algunas que no aportan valor a los datos.\n",
    "Una buena reducción de variables hará que el análisis sea más preciso ya que se minimiza la dispersión de los datos.\n",
    "Un correcto paso de reducción de variables ayuda a mejorar el rendimiento del análisis, los datos se pueden representar más limpios, reducen el ruido de los datos, etc...\n",
    "Alguas técnicas que se pueden aplicar para la reducción de variables son:\n",
    "- Análisis de componentes principales\n",
    "- Descomposición de valores singulares\n",
    "- Técnicas supervisadas y técnicas de no linealidad"
   ]
  },
  {
   "cell_type": "markdown",
   "metadata": {},
   "source": [
    "### Transformación de los datos\n",
    "Transformación de los datos se refiere a cambiar los datos, por ejemplo: \n",
    "- Aplicar logaritmo a los datos\n",
    "- Cambiar el rango de valores para que solo estén entre 0 y 1\n",
    "- Aplicar normalización a los datos para intentar que sigan una \"normal\" (distribución normal)"
   ]
  },
  {
   "cell_type": "markdown",
   "metadata": {},
   "source": [
    "### Selección de variables\n",
    "Selección o creación de variables, se refiere a que a veces necesitamos hacer un cálculo de una a varias variabes para crear otra que nos de una información que no teníamos antes y añada valor al análisis o modelo.\n",
    "Por ejemplo de campos de \"Fecha_apertura_ticket\" y \"Fecha_cierre_ticket\" se puede crear una nueva variable \"Tiempo_resolución\" que nos de el tiempo que se ha tardado en resolver cada ticket, aplicando a esta nueva variable la resta de los tiempos de las otras dos.\n",
    "\n",
    "También se refiere al proceso de selección estádistica de variables, que nos ayudan a ver que tan importantes son las variabes en referencia a la varible objetivo (target), como pueden ser los step AIC/BIC o Ridge/Lasso que nos dan métricas de importancia entre las variables y pueden ayudar a seleccionar variables para un modelo."
   ]
  },
  {
   "cell_type": "markdown",
   "metadata": {},
   "source": [
    "### Similitud y Disimilitud en Minería de Datos\n",
    "La **similitud** y la **disimilitud** son conceptos fundamentales en la minería de datos. Se utilizan para describir qué tan parecidos o diferentes son dos objetos (como puntos de datos, características o entidades).\n",
    "\n",
    "### Similitud\n",
    "La similitud es una medida de cuánto se parecen dos objetos de datos. Una alta similitud significa que los objetos son muy similares.\n",
    "\n",
    "### Aplicaciones\n",
    "- **Agrupación (Clustering)**: En algoritmos de clustering como K-means, los objetos se agrupan de tal manera que los objetos en el mismo grupo son más similares entre sí que con los de otros grupos.\n",
    "- **Sistemas de Recomendación**: Se usan medidas de similitud para recomendar artículos que son similares a los que le gustan a un usuario, como películas o productos.\n",
    "- **Clasificación y Recuperación de Documentos**: En análisis de texto, las medidas de similitud ayudan a encontrar documentos que son similares a un documento dado.\n",
    "\n",
    "### Medidas Comunes\n",
    "- **Distancia Euclidiana**: A menudo se utiliza en su forma invertida como una medida de similitud. Una menor distancia implica mayor similitud.\n",
    "- **Similitud del Coseno**: Frecuentemente utilizada en análisis de texto, mide el coseno del ángulo entre dos vectores.\n",
    "- **Correlación de Pearson**: Mide la correlación lineal entre dos variables.\n",
    "\n",
    "### Disimilitud\n",
    "La disimilitud se refiere al grado de diferencia entre dos objetos de datos. Una alta disimilitud significa que los objetos son muy diferentes.\n",
    "\n",
    "### Aplicaciones\n",
    "- **Detección de Anomalías**: Identificar puntos de datos que son significativamente diferentes de la mayoría de los datos.\n",
    "- **Análisis de Diversidad**: En ecología, por ejemplo, evaluar la diversidad de especies en un ecosistema.\n",
    "- **Segmentación en Marketing**: Diferenciar entre varios grupos de clientes para adaptar estrategias de marketing.\n",
    "\n",
    "### Medidas Comunes\n",
    "- **Distancia Euclidiana**: Utilizada directamente como una medida de disimilitud. Una mayor distancia implica mayor disimilitud.\n",
    "- **Distancia de Manhattan**: También conocida como distancia de bloque de ciudad, es la suma de las diferencias absolutas de sus coordenadas.\n",
    "- **Distancia de Hamming**: Utilizada para datos categóricos, es el número de posiciones en las que los símbolos correspondientes son diferentes.\n",
    "\n",
    "### Similitud vs. Disimilitud\n",
    "- La elección entre medidas de similitud y disimilitud a menudo depende del contexto y los requisitos de la aplicación específica.\n",
    "- En muchos casos, la similitud y la disimilitud están inversamente relacionadas; a medida que una aumenta, la otra disminuye. Sin embargo, la relación exacta depende de las medidas específicas utilizadas.\n",
    "- También es importante elegir una medida apropiada basada en el tipo de datos (numéricos, categóricos, texto, etc.) y las características específicas de la aplicación (como la importancia de la escala, los valores atípicos, etc.).\n",
    "\n",
    "En resumen, la similitud y la disimilitud son conceptos clave en el análisis de datos con aplicaciones de gran alcance, y la selección de la medida adecuada es crucial para el éxito de varias tareas y algoritmos impulsados por datos.\n"
   ]
  },
  {
   "cell_type": "markdown",
   "metadata": {},
   "source": [
    "### Distancia Euclidiana en Múltiples Dimensiones y Similitud del Coseno en Documentos\n",
    "\n",
    "### Distancia Euclidiana en Múltiples Dimensiones\n",
    "La **distancia euclidiana** es una medida de la distancia \"real\" entre dos puntos en un espacio de múltiples dimensiones. Se puede considerar como una generalización del teorema de Pitágoras en más de dos dimensiones.\n",
    "\n",
    "### Aplicación en Minería de Datos\n",
    "- Se utiliza comúnmente para medir la disimilitud entre puntos de datos en un espacio con muchas características (dimensiones).\n",
    "- En un espacio de múltiples dimensiones, cada dimensión representa una característica o un atributo del objeto.\n",
    "\n",
    "### Similitud del Coseno en Documentos\n",
    "La **similitud del coseno** mide la similitud entre dos vectores basándose en el ángulo entre ellos. Es especialmente útil en el procesamiento del lenguaje natural y el análisis de texto.\n",
    "\n",
    "### Aplicación en Minería de Datos\n",
    "- Usada para comparar documentos en análisis de texto.\n",
    "- Dos documentos se transforman en vectores de términos (por ejemplo, mediante la frecuencia de términos) y la similitud del coseno mide qué tan \"parecidos\" son estos vectores.\n",
    "\n",
    "\n",
    "## Conclusiones\n",
    "- La **distancia euclidiana** es útil para medir la disimilitud en espacios con múltiples características, como en clustering.\n",
    "- La **similitud del coseno** es ideal para comparar documentos en análisis de texto, ya que se enfoca más en el ángulo entre los vectores de términos que en su magnitud.\n"
   ]
  },
  {
   "cell_type": "markdown",
   "metadata": {},
   "source": [
    "### Correlación en Minería de Datos\n",
    "\n",
    "### Definición de Correlación\n",
    "La **correlación** es una medida estadística que describe el grado de relación entre dos variables. Indica cómo el cambio en una variable está asociado con un cambio en otra.\n",
    "\n",
    "### Importancia en Minería de Datos\n",
    "- En la minería de datos, la correlación se utiliza para entender cómo se relacionan diferentes atributos o características entre sí.\n",
    "- Una correlación alta entre dos variables sugiere que, cuando una variable cambia, la otra tiende a cambiar de manera predecible.\n",
    "\n",
    "### Tipos de Correlación\n",
    "\n",
    "### Correlación de Pearson\n",
    "- **Definición**: Mide la relación lineal entre dos variables.\n",
    "- **Rango de Valores**: Entre -1 y 1. Un valor de 1 indica una correlación positiva perfecta, -1 indica una correlación negativa perfecta, y 0 indica que no hay correlación lineal.\n",
    "\n",
    "### Correlación de Spearman\n",
    "- **Definición**: Mide la relación monótona (no necesariamente lineal) entre dos variables.\n",
    "- **Utilidad**: Especialmente útil para datos no paramétricos o con una relación no lineal.\n",
    "- **Cálculo**: Basado en los rangos de los valores en lugar de los valores reales.\n",
    "\n",
    "### Interpretación\n",
    "- **Correlación Positiva**: Si una variable aumenta, la otra también tiende a aumentar.\n",
    "- **Correlación Negativa**: Si una variable aumenta, la otra tiende a disminuir.\n",
    "- **Sin Correlación**: No hay una tendencia clara en el cambio de una variable al cambiar la otra.\n",
    "\n",
    "### Consideraciones\n",
    "- **Causalidad**: Una correlación entre dos variables no implica causalidad. Es decir, si dos variables están correlacionadas, no significa que una cause el cambio en la otra.\n",
    "- **Datos Anómalos**: Los valores atípicos pueden afectar significativamente la correlación, por lo que es importante analizarlos y tratarlos adecuadamente.\n",
    "\n",
    "### Aplicaciones en Minería de Datos\n",
    "- **Selección de Características**: Identificar y eliminar características redundantes o poco informativas.\n",
    "- **Análisis Exploratorio de Datos**: Comprender las relaciones entre variables antes de construir modelos predictivos.\n"
   ]
  },
  {
   "cell_type": "markdown",
   "metadata": {},
   "source": [
    "### Media y Mediana en Estadística\n",
    "\n",
    "### Media (Promedio)\n",
    "La **media** es una medida de tendencia central que se calcula sumando todos los valores numéricos de un conjunto de datos y luego dividiendo esta suma por el número total de valores.\n",
    "\n",
    "### Importancia\n",
    "- La media es útil para obtener una idea general del valor 'típico' en un conjunto de datos.\n",
    "- Es ampliamente utilizada en diversos campos como economía, ciencias, ingeniería, etc.\n",
    "\n",
    "### Consideraciones\n",
    "- La media puede verse afectada significativamente por valores atípicos o extremos. Un solo valor muy alto o muy bajo puede distorsionar la media.\n",
    "\n",
    "### Mediana\n",
    "La **mediana** es el valor que separa la mitad superior de la mitad inferior de un conjunto de datos ordenado. Si el conjunto de datos tiene un número impar de observaciones, la mediana es el valor medio. Si el conjunto tiene un número par de observaciones, es el promedio de los dos valores centrales.\n",
    "\n",
    "### Importancia\n",
    "- La mediana es una medida de tendencia central que es menos sensible a valores atípicos o extremos en comparación con la media.\n",
    "- Es especialmente útil en distribuciones sesgadas.\n",
    "\n",
    "### Comparación entre Media y Mediana\n",
    "- **Sensibilidad a Valores Atípicos**: La media es más sensible a valores atípicos que la mediana.\n",
    "- **Representatividad**: En distribuciones simétricas, la media y la mediana son similares. En distribuciones sesgadas, la mediana puede ser más representativa.\n",
    "- **Aplicación**: La elección entre media y mediana depende del contexto del análisis y de la naturaleza de los datos.\n",
    "\n",
    "### Aplicaciones en Minería de Datos\n",
    "- **Análisis Exploratorio de Datos (EDA)**: Tanto la media como la mediana se utilizan para comprender las características centrales de los datos.\n",
    "- **Limpieza de Datos**: Identificar valores atípicos o errores en los datos.\n",
    "- **Desarrollo de Modelos**: Ayudan a establecer puntos de referencia y a entender la distribución de los datos.\n"
   ]
  },
  {
   "cell_type": "markdown",
   "metadata": {},
   "source": [
    "### Estadísticas Descriptivas y Percentiles\n",
    "\n",
    "### Estadísticas Descriptivas (Summary Statistics)\n",
    "Las **estadísticas descriptivas** son resúmenes numéricos que describen características clave de un conjunto de datos. Incluyen medidas de tendencia central, dispersión y forma de la distribución de datos.\n",
    "\n",
    "### Componentes Clave\n",
    "1. **Media**: Promedio de los datos.\n",
    "2. **Mediana**: Valor medio en un conjunto de datos ordenado.\n",
    "3. **Moda**: Valor(es) que aparecen con mayor frecuencia.\n",
    "4. **Varianza**: Medida de la dispersión que describe qué tan lejos están los valores del promedio.\n",
    "5. **Desviación Estándar**: Raíz cuadrada de la varianza, indica cuánto varían los valores en promedio respecto al promedio.\n",
    "6. **Rango**: Diferencia entre el valor máximo y mínimo.\n",
    "7. **Cuartiles**: Dividen el conjunto de datos en cuatro partes iguales.\n",
    "\n",
    "### Importancia\n",
    "- Proporcionan una comprensión rápida y esencial de la naturaleza y la forma de la distribución de los datos.\n",
    "- Son fundamentales en el análisis exploratorio de datos (EDA) para identificar patrones, anomalías y formular hipótesis para análisis más detallados.\n",
    "\n",
    "### Percentiles\n",
    "Un **percentil** es una medida estadística que indica el valor por debajo del cual cae un porcentaje dado de observaciones en un grupo. Por ejemplo, el percentil 50 es el mismo que la mediana.\n",
    "\n",
    "### Aplicaciones\n",
    "- **Análisis de Datos**: Los percentiles son útiles para entender la distribución de los datos, especialmente en contextos donde la media y la mediana no son suficientes para capturar la naturaleza de los datos (por ejemplo, ingresos, resultados de exámenes).\n",
    "- **Evaluación de Rendimiento**: En el rendimiento de inversiones, exámenes, etc., los percentiles ayudan a entender cómo se compara una observación individual con el resto del grupo.\n",
    "\n",
    "### Aplicaciones en Minería de Datos\n",
    "- **Identificación de Valores Atípicos**: Tanto las estadísticas descriptivas como los percentiles pueden ayudar a identificar valores atípicos que podrían ser errores o puntos de interés especial.\n",
    "- **Preparación de Datos**: Ayudan en la normalización de datos y en la toma de decisiones sobre cómo tratar con valores faltantes o atípicos.\n",
    "- **Modelado Predictivo**: Proporcionan información valiosa para la selección de características y la construcción de modelos más precisos.\n"
   ]
  },
  {
   "cell_type": "markdown",
   "metadata": {},
   "source": [
    "### Exploración y Visualización de Datos en Ciencia de Datos\n",
    "\n",
    "### Exploración de Datos (Data Exploration)\n",
    "La **exploración de datos** es el proceso inicial de análisis, donde se examinan los datos para entender sus características principales y la estructura subyacente. Este proceso suele incluir la limpieza de datos, la identificación de patrones y anomalías, y la formulación de hipótesis.\n",
    "\n",
    "### Pasos Clave\n",
    "1. **Inspección Inicial**: Observar las primeras filas de los datos para tener una idea de la estructura y el tipo de datos.\n",
    "2. **Resumen Estadístico**: Utilizar estadísticas descriptivas para entender las tendencias centrales, la dispersión y la forma de los datos.\n",
    "3. **Identificación de Datos Faltantes o Atípicos**: Buscar y tratar con valores faltantes o errores en los datos.\n",
    "4. **Análisis de Correlaciones**: Investigar las relaciones entre las diferentes variables.\n",
    "5. **Pruebas de Hipótesis**: Realizar análisis estadísticos para probar hipótesis iniciales.\n",
    "\n",
    "### Herramientas Comunes\n",
    "- **Python** con bibliotecas como Pandas, NumPy y SciPy.\n",
    "- **R** con paquetes como dplyr, tidyr y ggplot2.\n",
    "\n",
    "### Visualización de Datos (Data Visualization)\n",
    "La **visualización de datos** es el proceso de convertir información en representaciones visuales como gráficos, mapas y gráficas, con el objetivo de facilitar la comprensión de los datos y destacar insights importantes.\n",
    "\n",
    "### Tipos de Visualizaciones\n",
    "1. **Gráficos de Barras y Columnas**: Para comparaciones y distribuciones de categorías.\n",
    "2. **Histogramas**: Para visualizar la distribución de datos numéricos.\n",
    "3. **Gráficos de Línea**: Útiles para tendencias y cambios a lo largo del tiempo.\n",
    "4. **Diagramas de Dispersión (Scatter Plots)**: Para observar relaciones entre variables numéricas.\n",
    "5. **Mapas de Calor (Heatmaps)**: Para representar la intensidad o la densidad de los datos.\n",
    "6. **Gráficos Circulares (Pie Charts)**: Para mostrar proporciones en un todo.\n",
    "\n",
    "### Importancia\n",
    "- Facilita la comprensión rápida de grandes cantidades de datos.\n",
    "- Ayuda a identificar patrones, tendencias y anomalías.\n",
    "- Esencial en la comunicación de resultados y hallazgos a una audiencia no técnica.\n",
    "\n",
    "### Herramientas Comunes\n",
    "- **Librerías de Visualización en Python**: Matplotlib, Seaborn, Plotly.\n",
    "- **Herramientas de BI y Visualización**: Tableau, Power BI.\n",
    "\n",
    "### Aplicaciones en Ciencia de Datos\n",
    "- **Análisis Exploratorio de Datos (EDA)**: La exploración y visualización de datos son componentes clave del EDA, proporcionando una base sólida para análisis más detallados y la construcción de modelos.\n",
    "- **Comunicación de Resultados**: Las visualizaciones son fundamentales para compartir insights y resultados de análisis de datos con stakeholders, facilitando la toma de decisiones basada en datos.\n"
   ]
  }
 ],
 "metadata": {
  "language_info": {
   "name": "python"
  }
 },
 "nbformat": 4,
 "nbformat_minor": 2
}
